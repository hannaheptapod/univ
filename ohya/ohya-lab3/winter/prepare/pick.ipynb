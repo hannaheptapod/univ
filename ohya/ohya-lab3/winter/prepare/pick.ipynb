{
 "cells": [
  {
   "cell_type": "code",
   "execution_count": 1,
   "metadata": {},
   "outputs": [],
   "source": [
    "import random, shutil, os"
   ]
  },
  {
   "cell_type": "code",
   "execution_count": 2,
   "metadata": {},
   "outputs": [],
   "source": [
    "cls = 'wine'\n",
    "\n",
    "src_dir = './' + cls + '_cropped/'\n",
    "trn_dir = '../trn/'\n",
    "tst_dir = '../tst/'"
   ]
  },
  {
   "cell_type": "code",
   "execution_count": 3,
   "metadata": {},
   "outputs": [],
   "source": [
    "lst = os.listdir(src_dir)\n",
    "random.shuffle(lst)\n",
    "\n",
    "for i in range(100):\n",
    "    shutil.move(src_dir+lst[i], trn_dir+cls+'_trn_'+format(i, '03')+'.jpg')\n",
    "for i in range(100, len(lst)):\n",
    "    shutil.move(src_dir+lst[i], tst_dir+cls+'_tst_'+format(i-100, '03')+'.jpg')"
   ]
  }
 ],
 "metadata": {
  "interpreter": {
   "hash": "7450f283586347fbb69c32ddfcf69b0063ed15193a5239b3d725716e9e9d26a3"
  },
  "kernelspec": {
   "display_name": "Python 3.9.7 64-bit ('ohya': conda)",
   "language": "python",
   "name": "python3"
  },
  "language_info": {
   "codemirror_mode": {
    "name": "ipython",
    "version": 3
   },
   "file_extension": ".py",
   "mimetype": "text/x-python",
   "name": "python",
   "nbconvert_exporter": "python",
   "pygments_lexer": "ipython3",
   "version": "3.9.9"
  },
  "orig_nbformat": 4
 },
 "nbformat": 4,
 "nbformat_minor": 2
}
