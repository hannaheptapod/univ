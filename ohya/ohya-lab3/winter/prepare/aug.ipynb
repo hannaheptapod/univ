{
 "cells": [
  {
   "cell_type": "code",
   "execution_count": 1,
   "metadata": {},
   "outputs": [],
   "source": [
    "from keras_preprocessing.image import load_img, img_to_array, ImageDataGenerator\n",
    "import matplotlib.pyplot as plt\n",
    "import numpy as np\n",
    "import os, glob"
   ]
  },
  {
   "cell_type": "code",
   "execution_count": 2,
   "metadata": {},
   "outputs": [],
   "source": [
    "src_dir = '../trn1/'\n",
    "files = glob.glob(src_dir+'*.jpg')\n",
    "\n",
    "dst_dir = '../auged/'\n",
    "if os.path.isdir(dst_dir) == False: os.mkdir(dst_dir)"
   ]
  },
  {
   "cell_type": "code",
   "execution_count": 3,
   "metadata": {},
   "outputs": [],
   "source": [
    "i = 0\n",
    "for j, file in enumerate(files):\n",
    "    img = load_img(file)\n",
    "    x = img_to_array(img)\n",
    "    x = np.expand_dims(x, axis=0)\n",
    "    datagen = ImageDataGenerator(\n",
    "        rotation_range=20.0,\n",
    "        width_shift_range=0.1,\n",
    "        height_shift_range=0.1,\n",
    "        zoom_range=0.1,\n",
    "        horizontal_flip=0.5)\n",
    "\n",
    "    g = datagen.flow(x, batch_size=1, save_to_dir=dst_dir, save_prefix='w'+format(i, '03'))\n",
    "    for j in range(1): batch = g.next()\n",
    "    i += 1"
   ]
  }
 ],
 "metadata": {
  "interpreter": {
   "hash": "7450f283586347fbb69c32ddfcf69b0063ed15193a5239b3d725716e9e9d26a3"
  },
  "kernelspec": {
   "display_name": "Python 3.9.7 64-bit ('ohya': conda)",
   "language": "python",
   "name": "python3"
  },
  "language_info": {
   "codemirror_mode": {
    "name": "ipython",
    "version": 3
   },
   "file_extension": ".py",
   "mimetype": "text/x-python",
   "name": "python",
   "nbconvert_exporter": "python",
   "pygments_lexer": "ipython3",
   "version": "3.9.9"
  },
  "orig_nbformat": 4
 },
 "nbformat": 4,
 "nbformat_minor": 2
}
