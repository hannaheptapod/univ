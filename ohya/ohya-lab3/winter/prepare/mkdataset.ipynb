{
 "cells": [
  {
   "cell_type": "code",
   "execution_count": 1,
   "metadata": {},
   "outputs": [],
   "source": [
    "import os, shutil"
   ]
  },
  {
   "cell_type": "code",
   "execution_count": 2,
   "metadata": {},
   "outputs": [],
   "source": [
    "src_dir = '../auged/'\n",
    "dst_dir = '../dataset/'"
   ]
  },
  {
   "cell_type": "code",
   "execution_count": null,
   "metadata": {},
   "outputs": [],
   "source": [
    "ls = os.listdir(src_dir)\n",
    "for file in ls:\n",
    "    if file[0] == 'b': shutil.copy(src_dir+file, dst_dir+'beer')\n",
    "    elif file[0] == 'w': shutil.copy(src_dir+file, dst_dir+'wine')"
   ]
  }
 ],
 "metadata": {
  "interpreter": {
   "hash": "7450f283586347fbb69c32ddfcf69b0063ed15193a5239b3d725716e9e9d26a3"
  },
  "kernelspec": {
   "display_name": "Python 3.9.7 64-bit ('ohya': conda)",
   "language": "python",
   "name": "python3"
  },
  "language_info": {
   "codemirror_mode": {
    "name": "ipython",
    "version": 3
   },
   "file_extension": ".py",
   "mimetype": "text/x-python",
   "name": "python",
   "nbconvert_exporter": "python",
   "pygments_lexer": "ipython3",
   "version": "3.9.7"
  },
  "orig_nbformat": 4
 },
 "nbformat": 4,
 "nbformat_minor": 2
}
