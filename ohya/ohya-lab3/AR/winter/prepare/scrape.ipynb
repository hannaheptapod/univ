{
 "cells": [
  {
   "cell_type": "code",
   "execution_count": 7,
   "metadata": {},
   "outputs": [],
   "source": [
    "from selenium import webdriver\n",
    "from selenium.webdriver.chrome.options import Options\n",
    "from selenium.webdriver.common.by import By\n",
    "import os\n",
    "import time\n",
    "import requests\n",
    "import shutil\n",
    "import base64"
   ]
  },
  {
   "cell_type": "code",
   "execution_count": 8,
   "metadata": {},
   "outputs": [
    {
     "name": "stdout",
     "output_type": "stream",
     "text": [
      "Downloading...\n",
      "000  /  448\n",
      "050  /  448\n",
      "100  /  448\n",
      "150  /  448\n",
      "200  /  448\n",
      "250  /  448\n",
      "300  /  448\n",
      "350  /  448\n",
      "400  /  448\n",
      "448  /  448\n",
      "Download is complete. 271 images are downloaded.\n"
     ]
    }
   ],
   "source": [
    "options = Options()\n",
    "options.add_argument(\"--disable-gpu\")\n",
    "options.add_argument(\"--disable-extensions\")\n",
    "options.add_argument('--proxy-server=\"direct://\"')\n",
    "options.add_argument(\"--proxy-bypass-list=*\")\n",
    "options.add_argument(\"--start-maximized\")\n",
    "\n",
    "driver = webdriver.Chrome(executable_path='/opt/homebrew/Caskroom/mambaforge/base/envs/ohya/bin/chromedriver')\n",
    "\n",
    "query = input('Search word? :')\n",
    "url = (\"https://www.google.com/search?hl=en&q=\" + \"+\".join(query.split()) + \"&btnG=Google+Search&tbs=0&safe=off&tbm=isch\")\n",
    "driver.get(url)\n",
    "\n",
    "for t in range(40):\n",
    "    driver.execute_script(\"window.scrollTo(0, document.body.scrollHeight)\")\n",
    "    time.sleep(1.5)\n",
    "\n",
    "try: driver.find_element_by_class_name(\"mye4qd\").click()\n",
    "except: pass\n",
    "\n",
    "for t in range(40):\n",
    "    driver.execute_script(\"window.scrollTo(0, document.body.scrollHeight)\")\n",
    "    time.sleep(1.5)\n",
    "\n",
    "srcs = driver.find_elements(By.XPATH, '//img[@class=\"rg_i Q4LuWd\"]')\n",
    "\n",
    "try:os.mkdir(query)\n",
    "except:pass\n",
    "\n",
    "i = 0\n",
    "\n",
    "print(\"Downloading...\")\n",
    "for j, src in enumerate(srcs):\n",
    "    if j % 50 == 0 or j == len(srcs)-1:\n",
    "        print(format(j, '03'), ' / ', format(len(srcs)-1, '03'))\n",
    "    file_name = f\"{query}/{'_'.join(query.split())}_{str(i).zfill(3)}.jpg\"\n",
    "    src = src.get_attribute(\"src\")\n",
    "    if src != None:\n",
    "        if \"base64,\" in src:\n",
    "            with open(file_name, \"wb\") as f:\n",
    "                f.write(base64.b64decode(src.split(\",\")[1]))\n",
    "        else:\n",
    "            res = requests.get(src, stream=True)\n",
    "            with open(file_name, \"wb\") as f:\n",
    "                shutil.copyfileobj(res.raw, f)\n",
    "        i += 1\n",
    "\n",
    "driver.quit()\n",
    "print(f\"Download is complete. {i} images are downloaded.\")"
   ]
  }
 ],
 "metadata": {
  "interpreter": {
   "hash": "7450f283586347fbb69c32ddfcf69b0063ed15193a5239b3d725716e9e9d26a3"
  },
  "kernelspec": {
   "display_name": "Python 3.9.7 64-bit ('ohya': conda)",
   "language": "python",
   "name": "python3"
  },
  "language_info": {
   "codemirror_mode": {
    "name": "ipython",
    "version": 3
   },
   "file_extension": ".py",
   "mimetype": "text/x-python",
   "name": "python",
   "nbconvert_exporter": "python",
   "pygments_lexer": "ipython3",
   "version": "3.9.9"
  },
  "orig_nbformat": 4
 },
 "nbformat": 4,
 "nbformat_minor": 2
}
