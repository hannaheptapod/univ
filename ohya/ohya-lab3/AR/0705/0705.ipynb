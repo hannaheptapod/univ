{
 "metadata": {
  "language_info": {
   "codemirror_mode": {
    "name": "ipython",
    "version": 3
   },
   "file_extension": ".py",
   "mimetype": "text/x-python",
   "name": "python",
   "nbconvert_exporter": "python",
   "pygments_lexer": "ipython3",
   "version": "3.9.4"
  },
  "orig_nbformat": 4,
  "kernelspec": {
   "name": "python3",
   "display_name": "Python 3.9.4 64-bit ('base': conda)"
  },
  "interpreter": {
   "hash": "95ec9ec1504d83f612128e0fb229072f90bbb4cb09d9d5d93b5dd26e0ca2cfd1"
  }
 },
 "nbformat": 4,
 "nbformat_minor": 2,
 "cells": [
  {
   "cell_type": "code",
   "execution_count": null,
   "metadata": {},
   "outputs": [],
   "source": [
    "class Calc:\n",
    "    def __init__(self, a, b):\n",
    "        self.a = a\n",
    "        self.b = b\n",
    "    def plus(self):\n",
    "        return self.a + self.b\n",
    "    def multiply(self):\n",
    "        return self.a * self.b\n",
    "\n",
    "calc = Calc(2, 5)\n",
    "print(calc.plus())\n",
    "print(calc.multiply())"
   ]
  },
  {
   "cell_type": "code",
   "execution_count": null,
   "metadata": {},
   "outputs": [],
   "source": [
    "class FiftyOverError(Exception):\n",
    "    pass\n",
    "\n",
    "try:\n",
    "    for i in range(10):\n",
    "        for j in range(10):\n",
    "                print(i, j)\n",
    "                if i * j > 50:\n",
    "                    raise FiftyOverError\n",
    "except FiftyOverError:\n",
    "    print('OK!')"
   ]
  },
  {
   "cell_type": "code",
   "execution_count": null,
   "metadata": {},
   "outputs": [],
   "source": [
    "path = 'numbers.txt'\n",
    "with open(path, mode='r', encoding='utf-8') as f:\n",
    "    for l in f.read().splitlines():\n",
    "        if int(l) % 3 == 0 or '3' in l:\n",
    "            l = l + '!'\n",
    "        print(l)"
   ]
  },
  {
   "cell_type": "code",
   "execution_count": 1,
   "metadata": {},
   "outputs": [
    {
     "output_type": "stream",
     "name": "stdout",
     "text": [
      "(3, 1, 4) (-1, 2, 8) (-9, -2, 0)\n(2, 3, 12)\n(-6, -1, 4)\n(-12, -2, 8)\n(-4.0, -0.6666666666666666, 2.6666666666666665)\n(4.0, -1.3333333333333333, 21.333333333333332)\n21.74600857373345\n"
     ]
    }
   ],
   "source": [
    "class SizeNotMatchError(Exception):\n",
    "    pass\n",
    "\n",
    "class Vector:\n",
    "    def __init__(self, *args):\n",
    "        self.v = list(args)\n",
    "\n",
    "    def __str__(self):\n",
    "        return str(tuple(self.v))\n",
    "\n",
    "    def __add__(self, other):\n",
    "        if len(self.v) != len(other.v):\n",
    "            raise SizeNotMatchError\n",
    "        else:\n",
    "            self.v = [a + b for a, b in zip(self.v, other.v)]\n",
    "        return self\n",
    "        \n",
    "    def __sub__(self, other):\n",
    "        if len(self.v) != len(other.v):\n",
    "            raise SizeNotMatchError\n",
    "        else:\n",
    "            self.v = [a - b for a, b in zip(self.v, other.v)]\n",
    "        return self\n",
    "\n",
    "    def __mul__(self, n):\n",
    "        self.v = [a * n for a in self.v]\n",
    "        return self\n",
    "\n",
    "    def __truediv__(self, n):\n",
    "        self.v = [a / n for a in self.v]\n",
    "        return self\n",
    "\n",
    "    def dot(self, other):\n",
    "        if len(self.v) != len(other.v):\n",
    "            raise SizeNotMatchError\n",
    "        else:\n",
    "            self.v = [a * b for a, b in zip(self.v, other.v)]\n",
    "        return self\n",
    "\n",
    "    def __abs__(self):\n",
    "        return sum([a ** 2 for a in self.v]) ** 0.5\n",
    "\n",
    "a, b, c = Vector(3, 1, 4), Vector(-1, 2, 8), Vector(-9, -2, 0)\n",
    "print(a, b, c)\n",
    "print(a + b)\n",
    "print(a - b + c)\n",
    "print(a * 2)\n",
    "print(a / 3)\n",
    "print(a.dot(b))\n",
    "print(abs(a))"
   ]
  },
  {
   "cell_type": "code",
   "execution_count": null,
   "metadata": {},
   "outputs": [],
   "source": [
    "import glob\n",
    "import os\n",
    "import sys\n",
    "import shutil\n",
    "\n",
    "path = '/Users/jink/Desktop/Programme/Univ/ohya-lab3/0705/kadai3_2_files/'\n",
    "n = 10\n",
    "f_name = 'result.txt'\n",
    "f_list = [os.path.split(f) for f in sorted(glob.glob(path + '/' + '*.txt'))]\n",
    "result = []\n",
    "path_to = []\n",
    "for i in range(n):\n",
    "    os.mkdir(path + str(i) + ' mod n')\n",
    "    path_to.append(path + str(i) + ' mod n')\n",
    "for i in range(len(f_list)):\n",
    "    path_from = f_list[i][0] + '/' + f_list[i][1]\n",
    "    with open(path_from, mode='r', encoding='utf-8') as f:\n",
    "        num_sum = 0\n",
    "        for l in f.readline():\n",
    "            try:\n",
    "                num_sum += int(l)\n",
    "            except Exception:\n",
    "                continue\n",
    "        result.append(f_list[i][1] + ' -> ' + str(num_sum % n) + ' mod n\\n')\n",
    "        shutil.move(path_from, path_to[num_sum % n])\n",
    "with open(path + '/' + f_name, mode='w', encoding='utf-8') as f:\n",
    "    f.writelines(result)\n",
    "print('fin.')"
   ]
  },
  {
   "cell_type": "code",
   "execution_count": null,
   "metadata": {
    "tags": [
     "outputPrepend"
    ]
   },
   "outputs": [],
   "source": [
    "import urllib.request\n",
    "import csv\n",
    "import os\n",
    "url = 'https://www.data.jma.go.jp/obd/stats/data/mdrr/tem_rct/alltable/mxtemsadext01.csv'\n",
    "urllib.request.urlretrieve(url, 'weather.csv')\n",
    "with open('weather.csv', mode='r+', encoding='shift-jis', newline='') as f:\n",
    "    f_list = [row for row in csv.reader(f)]\n",
    "w_list = []\n",
    "for row in f_list:\n",
    "    try:\n",
    "        w_list.append([row[1], row[2], float(row[9])])\n",
    "    except Exception:\n",
    "        pass\n",
    "print(w_list)\n",
    "\n",
    "os.remove('weather.csv')"
   ]
  },
  {
   "cell_type": "code",
   "execution_count": null,
   "metadata": {},
   "outputs": [],
   "source": []
  }
 ]
}