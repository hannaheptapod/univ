{
 "metadata": {
  "language_info": {
   "codemirror_mode": {
    "name": "ipython",
    "version": 3
   },
   "file_extension": ".py",
   "mimetype": "text/x-python",
   "name": "python",
   "nbconvert_exporter": "python",
   "pygments_lexer": "ipython3",
   "version": "3.9.4"
  },
  "orig_nbformat": 4,
  "kernelspec": {
   "name": "python3",
   "display_name": "Python 3.9.4 64-bit ('base': conda)"
  },
  "interpreter": {
   "hash": "95ec9ec1504d83f612128e0fb229072f90bbb4cb09d9d5d93b5dd26e0ca2cfd1"
  }
 },
 "nbformat": 4,
 "nbformat_minor": 2,
 "cells": [
  {
   "source": [
    "import decimal, time\n",
    "n = int(input('nを入力:'))\n",
    "t0 = time.time()\n",
    "decimal.getcontext().prec = n\n",
    "a, pi = decimal.Decimal(1), decimal.Decimal(0)\n",
    "\n",
    "for i in range(0, round(n * 1.7)):\n",
    "    j = decimal.Decimal(i)\n",
    "    b = 3*a * 16**(-j) / (2*j + 1)\n",
    "    pi += b\n",
    "    a = 2*a * (2 - 1/(j + 1))\n",
    "t1 = time.time()\n",
    "print(int(10**(n - 1) * pi))\n",
    "print('実行時間[s] = {}[s]'.format(t1 - t0))"
   ],
   "cell_type": "code",
   "metadata": {
    "tags": []
   },
   "execution_count": null,
   "outputs": []
  },
  {
   "cell_type": "code",
   "execution_count": null,
   "metadata": {
    "tags": []
   },
   "outputs": [],
   "source": [
    "import time\n",
    "n = int(input('ｎを入力:'))\n",
    "t0 = time.time()\n",
    "a, pi = 1, 0\n",
    "\n",
    "for i in range(round(n * 1.7)):\n",
    "    pi += (3 * 10**n * a // (16**i * (2*i + 1)))\n",
    "    a = (2*a * (2*i + 1) // (i + 1))\n",
    "t1 = time.time()\n",
    "print(pi)\n",
    "print('実行時間[s]: {}'.format(t1 - t0))"
   ]
  },
  {
   "cell_type": "code",
   "execution_count": null,
   "metadata": {
    "tags": []
   },
   "outputs": [],
   "source": [
    "n = int(input('nを入力:'))\n",
    "\n",
    "list_prime = [i for i in ([2] + list(range(3, n, 2))) if len([1 for j in range(3, round(i ** 0.5) + 1, 2) if i % j == 0]) == 0]\n",
    "\n",
    "print(list_prime)"
   ]
  },
  {
   "cell_type": "code",
   "execution_count": null,
   "metadata": {},
   "outputs": [],
   "source": []
  }
 ]
}