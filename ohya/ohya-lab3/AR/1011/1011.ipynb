{
 "cells": [
  {
   "cell_type": "code",
   "execution_count": null,
   "metadata": {},
   "outputs": [],
   "source": [
    "from tensorflow.keras.datasets import mnist\n",
    "import numpy as np"
   ]
  },
  {
   "cell_type": "code",
   "execution_count": null,
   "metadata": {},
   "outputs": [],
   "source": [
    "(train_images, train_labels), (test_images, test_labels) = mnist.load_data()"
   ]
  },
  {
   "cell_type": "code",
   "execution_count": null,
   "metadata": {},
   "outputs": [],
   "source": [
    "train_images.shape"
   ]
  },
  {
   "cell_type": "code",
   "execution_count": null,
   "metadata": {},
   "outputs": [],
   "source": [
    "def thresh(d, theta):\n",
    "    if d < theta: return 0\n",
    "    else: return 1\n",
    "def AND(x):\n",
    "    w = np.array([0.5, 0.5])\n",
    "    y = thresh(np.dot(x, w), 0.8)\n",
    "    return y\n",
    "def OR(x):\n",
    "    w = np.array([0.5, 0.5])\n",
    "    y = thresh(np.dot(x, w), 0.2)\n",
    "    return y\n",
    "def NAND(x):\n",
    "    y = 1 - AND(x)\n",
    "    return y\n",
    "def XOR(x):\n",
    "    y0 = np.array([NAND(x), OR(x)])\n",
    "    y = AND(y0)\n",
    "    return y"
   ]
  },
  {
   "cell_type": "code",
   "execution_count": null,
   "metadata": {},
   "outputs": [],
   "source": [
    "xl = [np.array([0, 0]), np.array([0, 1]), np.array([1, 0]), np.array([1, 1])]\n",
    "print('AND:', *[AND(x) for x in xl])\n",
    "print('OR:', *[OR(x) for x in xl])\n",
    "print('NAND:', *[NAND(x) for x in xl])\n",
    "print('XOR:', *[XOR(x) for x in xl])"
   ]
  }
 ],
 "metadata": {
  "interpreter": {
   "hash": "7450f283586347fbb69c32ddfcf69b0063ed15193a5239b3d725716e9e9d26a3"
  },
  "kernelspec": {
   "display_name": "Python 3.9.6 64-bit ('ohya': conda)",
   "name": "python3"
  },
  "language_info": {
   "codemirror_mode": {
    "name": "ipython",
    "version": 3
   },
   "file_extension": ".py",
   "mimetype": "text/x-python",
   "name": "python",
   "nbconvert_exporter": "python",
   "pygments_lexer": "ipython3",
   "version": "3.9.6"
  },
  "orig_nbformat": 4
 },
 "nbformat": 4,
 "nbformat_minor": 2
}
