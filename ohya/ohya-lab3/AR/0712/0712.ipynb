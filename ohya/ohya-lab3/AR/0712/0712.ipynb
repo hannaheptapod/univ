{
 "metadata": {
  "language_info": {
   "codemirror_mode": {
    "name": "ipython",
    "version": 3
   },
   "file_extension": ".py",
   "mimetype": "text/x-python",
   "name": "python",
   "nbconvert_exporter": "python",
   "pygments_lexer": "ipython3",
   "version": "3.9.4"
  },
  "orig_nbformat": 4,
  "kernelspec": {
   "name": "python3",
   "display_name": "Python 3.9.4 64-bit ('base': conda)"
  },
  "interpreter": {
   "hash": "95ec9ec1504d83f612128e0fb229072f90bbb4cb09d9d5d93b5dd26e0ca2cfd1"
  }
 },
 "nbformat": 4,
 "nbformat_minor": 2,
 "cells": [
  {
   "cell_type": "code",
   "execution_count": null,
   "metadata": {},
   "outputs": [],
   "source": [
    "import mojimoji\n",
    "print(mojimoji.zen_to_han('アイウ'))\n",
    "print(mojimoji.han_to_zen('abc123'))"
   ]
  },
  {
   "cell_type": "code",
   "execution_count": null,
   "metadata": {},
   "outputs": [],
   "source": [
    "import time\n",
    "import tqdm\n",
    "for i in tqdm.tqdm(range(100)):\n",
    "    time.sleep(0.1)"
   ]
  },
  {
   "cell_type": "code",
   "execution_count": null,
   "metadata": {},
   "outputs": [],
   "source": [
    "import numpy as np\n",
    "a = np.array([[1, 2, 3], [4, 5, 6]])\n",
    "print(a)"
   ]
  },
  {
   "cell_type": "code",
   "execution_count": null,
   "metadata": {},
   "outputs": [],
   "source": [
    "import numpy as np\n",
    "a = np.random.randint(0, 100, (5, 5))\n",
    "mean = np.mean(a)\n",
    "print(a)\n",
    "print(mean)"
   ]
  },
  {
   "cell_type": "code",
   "execution_count": null,
   "metadata": {},
   "outputs": [],
   "source": [
    "import numpy as np\n",
    "\n",
    "def fill(array, x, p):\n",
    "    a_diff = np.diff(array)\n",
    "    return array\n",
    "\n",
    "array = np.array((0, 0, -1, -1, -1, -1, 1, 1, 1, 1, 0, 0, 0, -1, -1, 1, 1))\n",
    "print(array)"
   ]
  },
  {
   "cell_type": "code",
   "execution_count": null,
   "metadata": {},
   "outputs": [],
   "source": [
    "import numpy as np\n",
    "\n",
    "class Nmoku:\n",
    "    def __init__(self, N, m):\n",
    "        self.board = np.zeros((N, N))\n",
    "        self.m = m\n",
    "        print(self.board)\n",
    "\n",
    "    def place(self, x, y, p):\n",
    "        if self.board[y][x] == 0:\n",
    "            self.board[y][x] = p\n",
    "        else:\n",
    "            raise PieceExistError('Already exists')\n",
    "        print(self.board)\n",
    "        check()\n",
    "\n",
    "    def check(self):\n",
    "        p = 0\n",
    "        if p != 0:\n",
    "            print(f'{p} Win!')"
   ]
  },
  {
   "cell_type": "code",
   "execution_count": null,
   "metadata": {},
   "outputs": [],
   "source": []
  }
 ]
}