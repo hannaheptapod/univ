{
 "metadata": {
  "language_info": {
   "codemirror_mode": {
    "name": "ipython",
    "version": 3
   },
   "file_extension": ".py",
   "mimetype": "text/x-python",
   "name": "python",
   "nbconvert_exporter": "python",
   "pygments_lexer": "ipython3",
   "version": "3.9.4"
  },
  "orig_nbformat": 4,
  "kernelspec": {
   "name": "python3",
   "display_name": "Python 3.9.4 64-bit ('base': conda)"
  },
  "interpreter": {
   "hash": "95ec9ec1504d83f612128e0fb229072f90bbb4cb09d9d5d93b5dd26e0ca2cfd1"
  }
 },
 "nbformat": 4,
 "nbformat_minor": 2,
 "cells": [
  {
   "cell_type": "code",
   "execution_count": null,
   "metadata": {},
   "outputs": [],
   "source": [
    "n = 10\n",
    "dict1 = {}\n",
    "for i in range(n):\n",
    "    dict1[i] = str(i ** 2)\n",
    "print(dict1)"
   ]
  },
  {
   "cell_type": "code",
   "execution_count": null,
   "metadata": {},
   "outputs": [],
   "source": [
    "n = 10\n",
    "dict1 = {i: str(i ** 2) for i in range(n)}\n",
    "print(dict1)"
   ]
  },
  {
   "cell_type": "code",
   "execution_count": null,
   "metadata": {},
   "outputs": [],
   "source": [
    "text = 'Ann where Bob had had had had had had had had had had had had written next to it as a correction.'\n",
    "word = 'had'\n",
    "text1 = text.split(' ')\n",
    "n = text1.count('had')\n",
    "print(n)"
   ]
  },
  {
   "cell_type": "code",
   "execution_count": null,
   "metadata": {},
   "outputs": [],
   "source": [
    "def fib(n):\n",
    "    num1, num2 = 1, 1\n",
    "    fib_list = []\n",
    "    while num1 < n:\n",
    "        fib_list.append(num1)\n",
    "        num1, num2 = num2, num1 + num2\n",
    "    return fib_list\n",
    "print(fib(int(input())))"
   ]
  },
  {
   "cell_type": "code",
   "execution_count": null,
   "metadata": {},
   "outputs": [],
   "source": []
  },
  {
   "cell_type": "code",
   "execution_count": null,
   "metadata": {},
   "outputs": [],
   "source": [
    "from math import factorial\n",
    "n = int(input('nを入力:'))\n",
    "for i in range(n):\n",
    "    combi_list = [(factorial(i) // (factorial(i - r) * factorial(r))) for r in range(i + 1)]\n",
    "    combi_string = [str(combi_list[j]) for j in range(i + 1)]\n",
    "    print(' '.join(combi_string).center(5 * n))"
   ]
  },
  {
   "cell_type": "code",
   "execution_count": null,
   "metadata": {},
   "outputs": [],
   "source": [
    "from decimal import Decimal, getcontext\n",
    "n, e = int(input('nを入力:')), Decimal(0)\n",
    "getcontext().prec = n\n",
    "for i in range(n):\n",
    "    s = 1\n",
    "    for j in range(i):\n",
    "        s *= j + 1\n",
    "    e += Decimal(1) / Decimal(s)\n",
    "print(e)"
   ]
  },
  {
   "cell_type": "code",
   "execution_count": null,
   "metadata": {},
   "outputs": [],
   "source": [
    "from random import randrange\n",
    "\n",
    "def hand_name(h):\n",
    "    name = {0:'グー', 1:'チョキ', 2:'パー'}\n",
    "    return name[h]\n",
    "    \n",
    "def rsp(n):\n",
    "    cpu_remains = list(range(n))\n",
    "    turn, num_remains = 0, n\n",
    "    while(num_remains > 1):\n",
    "        turn += 1\n",
    "        loser = []\n",
    "        hands_cpu = {}\n",
    "        hand_winner = 0\n",
    "        for i in cpu_remains:\n",
    "            hands_cpu[i] = randrange(3)\n",
    "        hands_show = {}\n",
    "        for i in cpu_remains:\n",
    "            hands_show[i] = hand_name(hands_cpu[i])\n",
    "        print(f'{turn}: {hands_show}')\n",
    "        num_hands = [list(hands_cpu.values()).count(i) for i in range(3)]\n",
    "        if any([num_hands[i] == num_remains for i in range(3)]) or all([num_hands[i] != 0 for i in range(3)]):\n",
    "            continue\n",
    "        for i in cpu_remains:\n",
    "            if any(num_hands[j] == 0 and hands_cpu[i] == (j - 1) % 3 for j in range(3)):\n",
    "                loser.append(i)\n",
    "        for i in loser:\n",
    "            cpu_remains.remove(i)\n",
    "            num_remains -= 1\n",
    "            if num_remains == 1:\n",
    "                hand_winner = hands_cpu[cpu_remains[0]]\n",
    "    print(f'{turn}回目で{cpu_remains[0]}が{hand_name(hand_winner)}で勝利しました．')\n",
    "\n",
    "n = int(input('nを入力:'))\n",
    "rsp(n)"
   ]
  },
  {
   "cell_type": "code",
   "execution_count": null,
   "metadata": {},
   "outputs": [],
   "source": [
    "from random import shuffle\n",
    "\n",
    "def print_card(n, hands):\n",
    "    dic_num = {0: 'A ', 10: 'J ', 11: 'Q ', 12: 'K '}\n",
    "    for i in range(1, 10):\n",
    "        dic_num[i] = str(i + 1).ljust(2)\n",
    "    dic_suit = {0: '\\u2660', 1: '\\u2661', 2: '\\u2662', 3: '\\u2663'}\n",
    "    dic_card = {}\n",
    "    for i in range(52):\n",
    "        dic_card[i] = dic_num[i // 4] + dic_suit[i % 4]\n",
    "    hands_cards = [[dic_card[j] for j in hands[i]] for i in range(n)]\n",
    "    [print(f'{i + 1}: {hands_cards[i]}') for i in range(n)]\n",
    "\n",
    "def dealer(n):\n",
    "    deck = list(range(52))\n",
    "    shuffle(deck)\n",
    "    hands = [sorted([deck[j] for j in range(i, 52, n)]) for i in range(n)]\n",
    "    print_card(n, hands)\n",
    "\n",
    "n = int(input('nを入力:'))\n",
    "dealer(n)"
   ]
  },
  {
   "cell_type": "code",
   "execution_count": 95,
   "metadata": {},
   "outputs": [
    {
     "output_type": "stream",
     "name": "stdout",
     "text": [
      "(232, 224, 255)は青に近いです．\n"
     ]
    }
   ],
   "source": [
    "import colorsys\n",
    "\n",
    "def dist(hsv):\n",
    "    c_name = ['赤', '黄', '緑', 'シアン', '青', 'マゼンタ']\n",
    "    color = c_name[round(hsv[0]*6) % 6]\n",
    "\n",
    "    if hsv[1] < 1/12:\n",
    "        if hsv[2] >= 300:\n",
    "            color = '白'\n",
    "        elif hsv[2] >= 60:\n",
    "            color = 'グレー'\n",
    "    \n",
    "    if hsv[2] < 60:\n",
    "        color = '黒'\n",
    "    return color\n",
    "\n",
    "def color():\n",
    "    rgb = tuple(int(input(f'{i}を入力:')) for i in ['R', 'G', 'B'])\n",
    "    hsv = colorsys.rgb_to_hsv(*rgb)\n",
    "    color = dist(hsv)\n",
    "    print(f'{rgb}は{color}に近いです．')\n",
    "\n",
    "color()"
   ]
  },
  {
   "cell_type": "code",
   "execution_count": null,
   "metadata": {},
   "outputs": [],
   "source": [
    "from random import random\n",
    "from datetime import datetime as dt\n",
    "\n",
    "time_format = '%Y%m%d %H:%M:%S'\n",
    "date_format = '%Y年%m月%d日'\n",
    "def pick_date(s_time, e_time):\n",
    "    p_time = s_time + random() * (e_time - s_time)\n",
    "    print(dt.strftime(p_time, date_format))\n",
    "\n",
    "s_time = dt.strptime(input('start_dateを入力(YYYYMMDD):')+ ' 00:00:00', time_format)\n",
    "e_time = dt.strptime(input('end_dateを入力(YYYYMMDD):')+ ' 23:59:59', time_format)\n",
    "pick_date(s_time, e_time)"
   ]
  },
  {
   "cell_type": "code",
   "execution_count": null,
   "metadata": {},
   "outputs": [],
   "source": []
  }
 ]
}