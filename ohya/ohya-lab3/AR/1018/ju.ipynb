{
 "cells": [
  {
   "cell_type": "code",
   "execution_count": 29,
   "metadata": {},
   "outputs": [],
   "source": [
    "import numpy as np\n",
    "import matplotlib.pyplot as plt"
   ]
  },
  {
   "cell_type": "code",
   "execution_count": 30,
   "metadata": {},
   "outputs": [],
   "source": [
    "def mean_squared_error(y, t):\n",
    "    return 0.5 * np.sum((y - t)**2)\n",
    "\n",
    "def cross_entropy_error(y, t):\n",
    "    delta = 1e-7\n",
    "    return -np.sum(t * np.log(y + delta))\n",
    "\n",
    "def numerical_gradient(f, x):\n",
    "    h = 1e-4\n",
    "    grad = np.zeros_like(x)\n",
    "\n",
    "    for ind in range(x.size):\n",
    "        tmp_val = x[ind]\n",
    "        x[ind] = tmp_val + h\n",
    "        fxh1 = f(x)\n",
    "        x[ind] = tmp_val - h\n",
    "        fxh2 = f(x)\n",
    "\n",
    "        grad[ind] = (fxh1 - fxh2) / (2 * h)\n",
    "        x[ind] = tmp_val\n",
    "    \n",
    "    return grad\n",
    "\n",
    "def gradient_descent(f, init_x, lr=0.01, step_num=100):\n",
    "    x = init_x\n",
    "\n",
    "    for i in range(step_num):\n",
    "        grad = numerical_gradient(f, x)\n",
    "        x -= lr * grad\n",
    "    \n",
    "    return x"
   ]
  },
  {
   "cell_type": "code",
   "execution_count": 31,
   "metadata": {},
   "outputs": [
    {
     "name": "stdout",
     "output_type": "stream",
     "text": [
      "0.09750000000000003\n",
      "0.510825457099338\n"
     ]
    }
   ],
   "source": [
    "t = np.array([0, 0, 1, 0, 0, 0, 0, 0, 0, 0])\n",
    "y = np.array([0.1, 0.05, 0.6, 0.0, 0.05, 0.1, 0.0, 0.1, 0.0, 0.0])\n",
    "print(mean_squared_error(y, t))\n",
    "print(cross_entropy_error(y, t))"
   ]
  },
  {
   "cell_type": "code",
   "execution_count": 32,
   "metadata": {},
   "outputs": [],
   "source": [
    "def f1(x):\n",
    "    return x[0]**2 + x[1]**2\n",
    "\n",
    "def f2(x):\n",
    "    return x[0]**2 + 2*x[0]*x[1] + 2*x[1]**2 - 6*x[0] + 4*x[1] - 1"
   ]
  },
  {
   "cell_type": "code",
   "execution_count": 33,
   "metadata": {},
   "outputs": [
    {
     "name": "stdout",
     "output_type": "stream",
     "text": [
      "[0.13261956 0.53047822] 0.2989950922966107\n"
     ]
    }
   ],
   "source": [
    "init_x = np.array([1.0, 4.0])\n",
    "fin_x = gradient_descent(f1, init_x)\n",
    "print(fin_x, f1(fin_x))"
   ]
  }
 ],
 "metadata": {
  "interpreter": {
   "hash": "7450f283586347fbb69c32ddfcf69b0063ed15193a5239b3d725716e9e9d26a3"
  },
  "kernelspec": {
   "display_name": "Python 3.9.6 64-bit ('ohya': conda)",
   "name": "python3"
  },
  "language_info": {
   "codemirror_mode": {
    "name": "ipython",
    "version": 3
   },
   "file_extension": ".py",
   "mimetype": "text/x-python",
   "name": "python",
   "nbconvert_exporter": "python",
   "pygments_lexer": "ipython3",
   "version": "3.9.6"
  },
  "orig_nbformat": 4
 },
 "nbformat": 4,
 "nbformat_minor": 2
}
